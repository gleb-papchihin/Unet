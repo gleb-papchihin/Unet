{
  "nbformat": 4,
  "nbformat_minor": 0,
  "metadata": {
    "colab": {
      "name": "CreateVideo.ipynb",
      "provenance": [],
      "collapsed_sections": []
    },
    "kernelspec": {
      "display_name": "Python 3",
      "name": "python3"
    },
    "language_info": {
      "name": "python"
    }
  },
  "cells": [
    {
      "cell_type": "code",
      "metadata": {
        "id": "Z2dgIgsz7Mu4"
      },
      "source": [
        "from google.colab import drive\n",
        "from pathlib import Path\n",
        "import matplotlib.pyplot as plt\n",
        "import cv2"
      ],
      "execution_count": 1,
      "outputs": []
    },
    {
      "cell_type": "code",
      "metadata": {
        "id": "VFllRm2R7a8R"
      },
      "source": [
        "drive.mount(\"/content/drive/\")"
      ],
      "execution_count": null,
      "outputs": []
    },
    {
      "cell_type": "code",
      "metadata": {
        "id": "7rwgxkp27gXG"
      },
      "source": [
        "hetamap_output = \"/content/drive/MyDrive/Unet/heatmap/output/transpose\""
      ],
      "execution_count": 62,
      "outputs": []
    },
    {
      "cell_type": "code",
      "metadata": {
        "id": "eqYt83g-URYO"
      },
      "source": [
        "folders = Path(hetamap_output).glob(\"*\")\n",
        "\n",
        "epochs = {}\n",
        "sorted_epochs = {}\n",
        "\n",
        "for folder in folders:\n",
        "    epoch = folder.name[0]\n",
        "\n",
        "    if not epochs.get(epoch, False):\n",
        "        epochs[epoch] = {}\n",
        "    \n",
        "    index = int(folder.name[1:])\n",
        "    epochs[epoch][index] = folder\n",
        "\n",
        "for epoch in epochs:\n",
        "    keys = sorted(epochs[epoch])\n",
        "    sorted_epochs[epoch] = {}\n",
        "\n",
        "    for key in keys:\n",
        "        sorted_epochs[epoch][key] = epochs[epoch][key]"
      ],
      "execution_count": 63,
      "outputs": []
    },
    {
      "cell_type": "code",
      "metadata": {
        "id": "pmuXgDZJYedG"
      },
      "source": [
        "frames = []\n",
        "\n",
        "keys = list(sorted_epochs[\"0\"].keys())\n",
        "for idx in range(0, len(sorted_epochs[\"0\"]), 4):\n",
        "    key = keys[idx]\n",
        "    folder = sorted_epochs[\"0\"][key]\n",
        "    frames.append(folder)\n",
        "\n",
        "keys = list(sorted_epochs[\"1\"].keys())\n",
        "for idx in range(0, len(sorted_epochs[\"1\"]), 5):\n",
        "    key = keys[idx]\n",
        "    folder = sorted_epochs[\"1\"][key]\n",
        "    frames.append(folder)\n",
        "\n",
        "keys = list(sorted_epochs[\"2\"].keys())\n",
        "for idx in range(0, len(sorted_epochs[\"2\"])):\n",
        "    key = keys[idx]\n",
        "    folder = sorted_epochs[\"2\"][key]\n",
        "    frames.append(folder)"
      ],
      "execution_count": 64,
      "outputs": []
    },
    {
      "cell_type": "code",
      "metadata": {
        "id": "hZGWhmuBfDt1"
      },
      "source": [
        "fourcc = cv2.VideoWriter_fourcc(*'XVID')\n",
        "shape = (1152, 360)\n",
        "name = \"UnetTransposeTwo.avi\"\n",
        "out = cv2.VideoWriter(name, fourcc, 25.0, shape)"
      ],
      "execution_count": 70,
      "outputs": []
    },
    {
      "cell_type": "code",
      "metadata": {
        "id": "grc-zspHf3OF"
      },
      "source": [
        "for frame in frames:\n",
        "  try:\n",
        "    images = list(frame.glob(\"*\"))\n",
        "    image0 = cv2.imread(str(images[4]))\n",
        "    image1 = cv2.imread(str(images[5]))\n",
        "    image2 = cv2.imread(str(images[6]))\n",
        "    image0 = cv2.cvtColor(image0, cv2.COLOR_BGR2RGB)\n",
        "    image1 = cv2.cvtColor(image1, cv2.COLOR_BGR2RGB)\n",
        "    image2 = cv2.cvtColor(image2, cv2.COLOR_BGR2RGB)\n",
        "  except:\n",
        "    continue\n",
        "\n",
        "  px = 1/plt.rcParams['figure.dpi']\n",
        "  figure, axis = plt.subplots(1, 3)\n",
        "  figure.set_figwidth(16)\n",
        "  figure.set_figheight(360*px)\n",
        "  axis[0].axis('off')\n",
        "  axis[0].imshow(image0)\n",
        "  axis[0].margins(x=0, y=0)\n",
        "  axis[1].axis('off')\n",
        "  axis[1].imshow(image1)\n",
        "  axis[1].margins(x=0, y=0)\n",
        "  axis[2].axis('off')\n",
        "  axis[2].imshow(image2)\n",
        "  axis[2].margins(x=0, y=0)\n",
        "  plt.savefig(\"frame.png\", transparent=True, nbins=0, pad_inches=0, bbox_inches=0)\n",
        "  plt.close(figure)\n",
        "  frame = cv2.imread(\"frame.png\")\n",
        "  out.write(frame)"
      ],
      "execution_count": 71,
      "outputs": []
    },
    {
      "cell_type": "code",
      "metadata": {
        "id": "C-LIT8iDf4T0"
      },
      "source": [
        "out.release()"
      ],
      "execution_count": 72,
      "outputs": []
    }
  ]
}